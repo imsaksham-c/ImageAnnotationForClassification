{
 "cells": [
  {
   "cell_type": "code",
   "execution_count": 1,
   "id": "755b19df",
   "metadata": {},
   "outputs": [],
   "source": [
    "import os\n",
    "import shutil\n",
    "from pigeon import annotate\n",
    "from IPython.display import display, Image"
   ]
  },
  {
   "cell_type": "code",
   "execution_count": 3,
   "id": "adb4455e",
   "metadata": {},
   "outputs": [
    {
     "data": {
      "text/plain": [
       "5"
      ]
     },
     "execution_count": 3,
     "metadata": {},
     "output_type": "execute_result"
    }
   ],
   "source": [
    "dir = './UnRecognised/' # path to folder containing Images \n",
    "\n",
    "listfiles =[]\n",
    "for img_files in os.listdir(dir):\n",
    "    #if img_files.endswith(\".jpg\" or '.jpeg' or '.png'):\n",
    "    listfiles.append(dir+img_files)\n",
    "        \n",
    "len(listfiles)"
   ]
  },
  {
   "cell_type": "code",
   "execution_count": 4,
   "id": "3474ae19",
   "metadata": {},
   "outputs": [
    {
     "data": {
      "application/vnd.jupyter.widget-view+json": {
       "model_id": "ab34059bec7e4ca8a8a7804d0402766a",
       "version_major": 2,
       "version_minor": 0
      },
      "text/plain": [
       "HTML(value='0 examples annotated, 6 examples left')"
      ]
     },
     "metadata": {},
     "output_type": "display_data"
    },
    {
     "data": {
      "application/vnd.jupyter.widget-view+json": {
       "model_id": "18f142384f8848269c054478298e23be",
       "version_major": 2,
       "version_minor": 0
      },
      "text/plain": [
       "HBox(children=(Button(description='Clean', style=ButtonStyle()), Button(description='Dirty', style=ButtonStyle…"
      ]
     },
     "metadata": {},
     "output_type": "display_data"
    },
    {
     "data": {
      "application/vnd.jupyter.widget-view+json": {
       "model_id": "a96ed32932ea4821b79fea8320890e53",
       "version_major": 2,
       "version_minor": 0
      },
      "text/plain": [
       "Output()"
      ]
     },
     "metadata": {},
     "output_type": "display_data"
    },
    {
     "name": "stdout",
     "output_type": "stream",
     "text": [
      "Annotation done.\n"
     ]
    }
   ],
   "source": [
    "annotations = annotate(\n",
    "  listfiles,\n",
    "  options=['Clean', 'Dirty', 'UnRecognised'], #option contains classes\n",
    "  display_fn=lambda filename: display(Image(filename))\n",
    ")"
   ]
  },
  {
   "cell_type": "code",
   "execution_count": 5,
   "id": "b263b68e",
   "metadata": {},
   "outputs": [],
   "source": [
    "for annotate in annotations:\n",
    "    dir1 = './CleanImages/'\n",
    "    dir2 = './DirtyImages/'\n",
    "    dir3 = './UnRecognised/'\n",
    "    \n",
    "    try:\n",
    "        if not os.path.exists(dir1):\n",
    "            os.makedirs(dir1)\n",
    "        if not os.path.exists(dir2):\n",
    "            os.makedirs(dir2)\n",
    "        if not os.path.exists(dir3):\n",
    "            os.makedirs(dir3)\n",
    "\n",
    "        name = annotate[0].split('/')[-1]\n",
    "        if annotate[1] == 'Clean':\n",
    "            saveLoc = dir1+name\n",
    "            shutil.move(annotate[0], saveLoc)\n",
    "        elif annotate[1] == 'Dirty':\n",
    "            saveLoc = dir2+name\n",
    "            shutil.move(annotate[0], saveLoc)\n",
    "        else:\n",
    "            saveLoc = dir3+name\n",
    "            shutil.move(annotate[0], saveLoc)\n",
    "    except:\n",
    "        print(\"------ERROR-------\", annotate)"
   ]
  },
  {
   "cell_type": "code",
   "execution_count": null,
   "id": "acf96541",
   "metadata": {},
   "outputs": [],
   "source": []
  },
  {
   "cell_type": "code",
   "execution_count": null,
   "id": "09026132",
   "metadata": {},
   "outputs": [],
   "source": []
  }
 ],
 "metadata": {
  "kernelspec": {
   "display_name": "Python 3 (ipykernel)",
   "language": "python",
   "name": "python3"
  },
  "language_info": {
   "codemirror_mode": {
    "name": "ipython",
    "version": 3
   },
   "file_extension": ".py",
   "mimetype": "text/x-python",
   "name": "python",
   "nbconvert_exporter": "python",
   "pygments_lexer": "ipython3",
   "version": "3.8.10"
  }
 },
 "nbformat": 4,
 "nbformat_minor": 5
}
